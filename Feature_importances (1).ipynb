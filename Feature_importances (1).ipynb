{
 "cells": [
  {
   "cell_type": "markdown",
   "id": "26beb169",
   "metadata": {},
   "source": [
    "# Feature_importances"
   ]
  },
  {
   "cell_type": "code",
   "execution_count": null,
   "id": "7b83c587",
   "metadata": {},
   "outputs": [],
   "source": [
    "import pandas as pd\n",
    "import numpy as np\n",
    "from sklearn.feature_selection import SelectKBest\n",
    "from sklearn.feature_selection import chi2\n",
    "data = r'C:\\Users\\ridfar8w\\Downloads\\Mean-shiftAll.csv'\n",
    "df = pd.read_csv(data)\n",
    "\n",
    "X = df.drop(['labels'], axis=1) #independent columns\n",
    "\n",
    "y = df['labels'].values     #target column i.e price range"
   ]
  },
  {
   "cell_type": "code",
   "execution_count": null,
   "id": "7ec90c71",
   "metadata": {},
   "outputs": [],
   "source": [
    "import pandas as pd\n",
    "import numpy as np\n",
    "from sklearn.feature_selection import SelectKBest\n",
    "from sklearn.feature_selection import chi2\n",
    "data = r'C:\\Users\\ridfar8w\\Downloads\\Fuzzyy.csv'\n",
    "df = pd.read_csv(data)\n",
    "\n",
    "X = df.drop(['pred'], axis=1) #independent columns\n",
    "\n",
    "y = df['pred'].values     #target column i.e price range"
   ]
  },
  {
   "cell_type": "code",
   "execution_count": null,
   "id": "41fd97ce",
   "metadata": {},
   "outputs": [],
   "source": [
    "from sklearn.ensemble import ExtraTreesClassifier\n",
    "import matplotlib.pyplot as plt\n",
    "model = ExtraTreesClassifier()\n",
    "model.fit(X,y)"
   ]
  },
  {
   "cell_type": "code",
   "execution_count": null,
   "id": "0f3eeaad",
   "metadata": {},
   "outputs": [],
   "source": [
    "print(model.feature_importances_) #use inbuilt class feature_importances of tree based classifiers"
   ]
  },
  {
   "cell_type": "code",
   "execution_count": null,
   "id": "601a1e92",
   "metadata": {},
   "outputs": [],
   "source": [
    "#plot graph of feature importances for better visualization\n",
    "feat_importances = pd.Series(model.feature_importances_, index=X.columns)\n",
    "feat_importa.nces.nlargest(10).plot(kind='barh',color=list('ygbkmcr'),edgecolor='yellow')\n",
    "plt.show()"
   ]
  },
  {
   "cell_type": "code",
   "execution_count": null,
   "id": "e0a75809",
   "metadata": {},
   "outputs": [],
   "source": [
    "niveau1 = df[(df[\"labels\"] == 2)]"
   ]
  },
  {
   "cell_type": "code",
   "execution_count": null,
   "id": "3917bea7",
   "metadata": {},
   "outputs": [],
   "source": [
    "from pathlib import Path  \n",
    "filepath = Path('C:/Users/ridfar8w/Downloads/oaks.csv')  \n",
    "filepath.parent.mkdir(parents=True, exist_ok=True)  \n",
    "niveau1.to_csv(filepath)"
   ]
  },
  {
   "cell_type": "code",
   "execution_count": null,
   "id": "c0ba8eb4",
   "metadata": {},
   "outputs": [],
   "source": []
  }
 ],
 "metadata": {
  "kernelspec": {
   "display_name": "Python 3 (ipykernel)",
   "language": "python",
   "name": "python3"
  },
  "language_info": {
   "codemirror_mode": {
    "name": "ipython",
    "version": 3
   },
   "file_extension": ".py",
   "mimetype": "text/x-python",
   "name": "python",
   "nbconvert_exporter": "python",
   "pygments_lexer": "ipython3",
   "version": "3.9.7"
  }
 },
 "nbformat": 4,
 "nbformat_minor": 5
}
